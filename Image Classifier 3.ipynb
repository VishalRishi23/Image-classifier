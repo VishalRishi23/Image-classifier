{
 "cells": [
  {
   "cell_type": "code",
   "execution_count": 20,
   "metadata": {},
   "outputs": [],
   "source": [
    "import numpy as np\n",
    "import pandas as pd\n",
    "import matplotlib.pyplot as plt\n",
    "import os\n",
    "import tensorflow as tf\n",
    "from tensorflow import keras\n",
    "import cv2 as cv\n",
    "\n",
    "train=pd.read_csv('train.csv')\n",
    "os.chdir('Train Images')\n",
    "X=train['Image'].values\n",
    "Xtrain=[]\n",
    "for i in X:\n",
    "    im = cv.imread(i)\n",
    "    im = cv.resize(im,(96,96),interpolation=cv.INTER_LINEAR)\n",
    "    Xtrain.append(new)\n",
    "Xtrain=np.array(Xtrain)    \n",
    "Xtest,Xtrain=Xtrain[:983],Xtrain[983:]\n",
    "train[train['Class']=='Food']=0\n",
    "train[train['Class']=='misc']=1\n",
    "train[train['Class']=='Attire']=2\n",
    "train[train['Class']=='Decorationandsignage']=3\n",
    "ytrain=train['Class'].values\n",
    "ytest,ytrain=ytrain[:983],ytrain[983:]\n",
    "os.chdir('C:\\Windows\\System32\\ML_PATH')"
   ]
  },
  {
   "cell_type": "code",
   "execution_count": 21,
   "metadata": {},
   "outputs": [
    {
     "data": {
      "text/plain": [
       "(5000, 96, 96, 3)"
      ]
     },
     "execution_count": 21,
     "metadata": {},
     "output_type": "execute_result"
    }
   ],
   "source": [
    "Xtrain.shape"
   ]
  },
  {
   "cell_type": "code",
   "execution_count": 22,
   "metadata": {},
   "outputs": [],
   "source": [
    "Xtrain=Xtrain.astype('float32')\n",
    "Xtest=Xtest.astype('float32')\n",
    "ytrain=ytrain.astype('float32')\n",
    "ytest=ytest.astype('float32')\n",
    "m,s=Xtrain.mean(),Xtrain.std()\n",
    "def standardize(data):\n",
    "    mean,std=data.mean(),data.std()\n",
    "    data=(data-mean)/std\n",
    "    return data   \n",
    "Xtrain=standardize(Xtrain)\n",
    "Xtest=(Xtest-m)/s\n",
    "Xtrain,Xval=Xtrain[:4000],Xtrain[4000:]\n",
    "ytrain,yval=ytrain[:4000],ytrain[4000:]"
   ]
  },
  {
   "cell_type": "code",
   "execution_count": 23,
   "metadata": {},
   "outputs": [],
   "source": [
    "from sklearn.utils import class_weight\n",
    "a=class_weight.compute_class_weight('balanced',np.array([0.,1.,2.,3.]),ytrain)"
   ]
  },
  {
   "cell_type": "code",
   "execution_count": 24,
   "metadata": {},
   "outputs": [],
   "source": [
    "base_model=tf.keras.applications.MobileNetV2(input_shape=[96,96,3],include_top=False,weights='imagenet')"
   ]
  },
  {
   "cell_type": "code",
   "execution_count": 25,
   "metadata": {},
   "outputs": [],
   "source": [
    "base_model.trainable=False"
   ]
  },
  {
   "cell_type": "code",
   "execution_count": 26,
   "metadata": {},
   "outputs": [],
   "source": [
    "avg=keras.layers.GlobalAveragePooling2D()\n",
    "d1=keras.layers.Dense(1024,activation='elu',kernel_initializer='he_normal')\n",
    "bn1=keras.layers.BatchNormalization()\n",
    "dr1=keras.layers.Dropout(0.50)\n",
    "d2=keras.layers.Dense(512,activation='elu',kernel_initializer='he_normal')\n",
    "bn2=keras.layers.BatchNormalization()\n",
    "dr2=keras.layers.Dropout(0.25)\n",
    "d3=keras.layers.Dense(256,activation='elu',kernel_initializer='he_normal')\n",
    "bn3=keras.layers.BatchNormalization()\n",
    "dr3=keras.layers.Dropout(0.25)\n",
    "d4=keras.layers.Dense(128,activation='elu',kernel_initializer='he_normal')\n",
    "bn4=keras.layers.BatchNormalization()\n",
    "output=keras.layers.Dense(4,activation='softmax')\n",
    "model=tf.keras.Sequential([base_model,avg,output])\n",
    "model.compile(loss='sparse_categorical_crossentropy',optimizer=keras.optimizers.Adam(lr=1e-3,beta_1=0.9,beta_2=0.999),metrics=['accuracy'])"
   ]
  },
  {
   "cell_type": "code",
   "execution_count": 27,
   "metadata": {},
   "outputs": [
    {
     "name": "stdout",
     "output_type": "stream",
     "text": [
      "Train on 4000 samples, validate on 1000 samples\n",
      "Epoch 1/20\n",
      "4000/4000 [==============================] - 74s 19ms/sample - loss: 1.4437 - accuracy: 0.3808 - val_loss: 1.6794 - val_accuracy: 0.3990\n",
      "Epoch 2/20\n",
      "4000/4000 [==============================] - 74s 18ms/sample - loss: 1.2542 - accuracy: 0.4485 - val_loss: 1.6335 - val_accuracy: 0.3890\n",
      "Epoch 3/20\n",
      "4000/4000 [==============================] - 74s 18ms/sample - loss: 1.1843 - accuracy: 0.4855 - val_loss: 1.5117 - val_accuracy: 0.3700\n",
      "Epoch 4/20\n",
      "4000/4000 [==============================] - 74s 18ms/sample - loss: 1.1425 - accuracy: 0.4960 - val_loss: 1.5234 - val_accuracy: 0.3800\n",
      "Epoch 5/20\n",
      "4000/4000 [==============================] - 73s 18ms/sample - loss: 1.1088 - accuracy: 0.5188 - val_loss: 1.4899 - val_accuracy: 0.3830\n",
      "Epoch 6/20\n",
      "4000/4000 [==============================] - 75s 19ms/sample - loss: 1.0842 - accuracy: 0.5360 - val_loss: 1.5886 - val_accuracy: 0.3870\n",
      "Epoch 7/20\n",
      "4000/4000 [==============================] - 76s 19ms/sample - loss: 1.0608 - accuracy: 0.5455 - val_loss: 1.6295 - val_accuracy: 0.3890\n",
      "Epoch 8/20\n",
      "4000/4000 [==============================] - 75s 19ms/sample - loss: 1.0495 - accuracy: 0.5477 - val_loss: 1.5022 - val_accuracy: 0.3980\n",
      "Epoch 9/20\n",
      "4000/4000 [==============================] - 74s 19ms/sample - loss: 1.0438 - accuracy: 0.5470 - val_loss: 1.4708 - val_accuracy: 0.3930\n",
      "Epoch 10/20\n",
      "4000/4000 [==============================] - 74s 18ms/sample - loss: 1.0457 - accuracy: 0.5458 - val_loss: 1.4955 - val_accuracy: 0.3940\n",
      "Epoch 11/20\n",
      "4000/4000 [==============================] - 74s 18ms/sample - loss: 1.0117 - accuracy: 0.5713 - val_loss: 1.6031 - val_accuracy: 0.3910\n",
      "Epoch 12/20\n",
      "4000/4000 [==============================] - 75s 19ms/sample - loss: 1.0026 - accuracy: 0.5778 - val_loss: 1.5696 - val_accuracy: 0.3940\n",
      "Epoch 13/20\n",
      "4000/4000 [==============================] - 75s 19ms/sample - loss: 1.0038 - accuracy: 0.5738 - val_loss: 1.4909 - val_accuracy: 0.3890\n",
      "Epoch 14/20\n",
      "4000/4000 [==============================] - 74s 19ms/sample - loss: 0.9970 - accuracy: 0.5732 - val_loss: 1.8227 - val_accuracy: 0.3980\n",
      "Epoch 15/20\n",
      "4000/4000 [==============================] - 73s 18ms/sample - loss: 0.9789 - accuracy: 0.5807 - val_loss: 1.5175 - val_accuracy: 0.3770\n",
      "Epoch 16/20\n",
      "4000/4000 [==============================] - 73s 18ms/sample - loss: 0.9914 - accuracy: 0.5667 - val_loss: 1.6730 - val_accuracy: 0.3990\n",
      "Epoch 17/20\n",
      "4000/4000 [==============================] - 74s 18ms/sample - loss: 0.9836 - accuracy: 0.5815 - val_loss: 1.5834 - val_accuracy: 0.3920\n",
      "Epoch 18/20\n",
      "4000/4000 [==============================] - 74s 18ms/sample - loss: 0.9699 - accuracy: 0.5813 - val_loss: 1.5827 - val_accuracy: 0.3830\n",
      "Epoch 19/20\n",
      "4000/4000 [==============================] - 74s 18ms/sample - loss: 0.9571 - accuracy: 0.5947 - val_loss: 1.7008 - val_accuracy: 0.3980\n",
      "Epoch 20/20\n",
      "4000/4000 [==============================] - 73s 18ms/sample - loss: 0.9729 - accuracy: 0.5935 - val_loss: 1.5100 - val_accuracy: 0.3670\n"
     ]
    }
   ],
   "source": [
    "n_epochs = 20\n",
    "batch_size=32\n",
    "def exp(epoch):\n",
    "    return  0.005*0.1**(epoch/60)\n",
    "lr=keras.callbacks.LearningRateScheduler(exp)\n",
    "history = model.fit(Xtrain, ytrain,batch_size=batch_size, epochs=n_epochs, validation_data=[Xval,yval],class_weight=a)          "
   ]
  },
  {
   "cell_type": "code",
   "execution_count": 9,
   "metadata": {},
   "outputs": [
    {
     "name": "stdout",
     "output_type": "stream",
     "text": [
      "WARNING:tensorflow:sample_weight modes were coerced from\n",
      "  ...\n",
      "    to  \n",
      "  ['...']\n",
      "Train for 125 steps, validate on 1000 samples\n",
      "Epoch 21/40\n",
      "125/125 [==============================] - 118s 943ms/step - loss: 0.7678 - accuracy: 0.6902 - val_loss: 0.8867 - val_accuracy: 0.6460\n",
      "Epoch 22/40\n",
      "125/125 [==============================] - 118s 945ms/step - loss: 0.7322 - accuracy: 0.7020 - val_loss: 0.9576 - val_accuracy: 0.6200\n",
      "Epoch 23/40\n",
      "125/125 [==============================] - 119s 951ms/step - loss: 0.7391 - accuracy: 0.7023 - val_loss: 1.0189 - val_accuracy: 0.6120\n",
      "Epoch 24/40\n",
      "125/125 [==============================] - 117s 939ms/step - loss: 0.7112 - accuracy: 0.7125 - val_loss: 0.8534 - val_accuracy: 0.6390\n",
      "Epoch 25/40\n",
      "125/125 [==============================] - 118s 943ms/step - loss: 0.6909 - accuracy: 0.7295 - val_loss: 0.8977 - val_accuracy: 0.6520\n",
      "Epoch 26/40\n",
      "125/125 [==============================] - 118s 941ms/step - loss: 0.6897 - accuracy: 0.7265 - val_loss: 1.0482 - val_accuracy: 0.6210\n",
      "Epoch 27/40\n",
      "125/125 [==============================] - 118s 943ms/step - loss: 0.6602 - accuracy: 0.7395 - val_loss: 0.9309 - val_accuracy: 0.6420\n",
      "Epoch 28/40\n",
      "125/125 [==============================] - 118s 942ms/step - loss: 0.6745 - accuracy: 0.7358 - val_loss: 0.8625 - val_accuracy: 0.6620\n",
      "Epoch 29/40\n",
      "125/125 [==============================] - 118s 940ms/step - loss: 0.6630 - accuracy: 0.7365 - val_loss: 0.9148 - val_accuracy: 0.6640\n",
      "Epoch 30/40\n",
      "125/125 [==============================] - 118s 945ms/step - loss: 0.6569 - accuracy: 0.7402 - val_loss: 1.0525 - val_accuracy: 0.6340\n",
      "Epoch 31/40\n",
      "125/125 [==============================] - 118s 946ms/step - loss: 0.6162 - accuracy: 0.7555 - val_loss: 1.0379 - val_accuracy: 0.6330\n",
      "Epoch 32/40\n",
      "125/125 [==============================] - 118s 942ms/step - loss: 0.6082 - accuracy: 0.7577 - val_loss: 0.9196 - val_accuracy: 0.6490\n",
      "Epoch 33/40\n",
      "125/125 [==============================] - 99s 794ms/step - loss: 0.5875 - accuracy: 0.7715 - val_loss: 1.0711 - val_accuracy: 0.6090\n",
      "Epoch 34/40\n",
      "125/125 [==============================] - 85s 684ms/step - loss: 0.5802 - accuracy: 0.7793 - val_loss: 0.9637 - val_accuracy: 0.6480\n",
      "Epoch 35/40\n",
      "125/125 [==============================] - 86s 688ms/step - loss: 0.5685 - accuracy: 0.7805 - val_loss: 0.9342 - val_accuracy: 0.6550\n",
      "Epoch 36/40\n",
      "125/125 [==============================] - 86s 689ms/step - loss: 0.5589 - accuracy: 0.7837 - val_loss: 0.9625 - val_accuracy: 0.6580\n",
      "Epoch 37/40\n",
      "125/125 [==============================] - 86s 690ms/step - loss: 0.5728 - accuracy: 0.7780 - val_loss: 1.0389 - val_accuracy: 0.6560\n",
      "Epoch 38/40\n",
      "125/125 [==============================] - 86s 685ms/step - loss: 0.5369 - accuracy: 0.7952 - val_loss: 1.1064 - val_accuracy: 0.6060\n",
      "Epoch 39/40\n",
      "125/125 [==============================] - 86s 691ms/step - loss: 0.5460 - accuracy: 0.7878 - val_loss: 1.1137 - val_accuracy: 0.6090\n",
      "Epoch 40/40\n",
      "125/125 [==============================] - 78s 623ms/step - loss: 0.5225 - accuracy: 0.7990 - val_loss: 1.1493 - val_accuracy: 0.6210\n"
     ]
    }
   ],
   "source": [
    "history = model.fit_generator(datagen.flow(Xtrain, ytrain,batch_size=batch_size), epochs=40,initial_epoch=20,validation_data=[Xval,yval],class_weight=a) "
   ]
  },
  {
   "cell_type": "code",
   "execution_count": null,
   "metadata": {},
   "outputs": [
    {
     "name": "stdout",
     "output_type": "stream",
     "text": [
      "2112/4000 [==============>...............] - ETA: 8s - loss: 1.0177 - accuracy: 0.6411"
     ]
    }
   ],
   "source": [
    "model.evaluate(Xtrain,ytrain)"
   ]
  }
 ],
 "metadata": {
  "kernelspec": {
   "display_name": "Python 3",
   "language": "python",
   "name": "python3"
  },
  "language_info": {
   "codemirror_mode": {
    "name": "ipython",
    "version": 3
   },
   "file_extension": ".py",
   "mimetype": "text/x-python",
   "name": "python",
   "nbconvert_exporter": "python",
   "pygments_lexer": "ipython3",
   "version": "3.7.4"
  }
 },
 "nbformat": 4,
 "nbformat_minor": 2
}
