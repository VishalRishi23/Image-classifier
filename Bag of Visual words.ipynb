{
 "cells": [
  {
   "cell_type": "code",
   "execution_count": 1,
   "metadata": {},
   "outputs": [],
   "source": [
    "import numpy as np\n",
    "import pandas as pd\n",
    "import matplotlib.pyplot as plt\n",
    "import os\n",
    "import tensorflow as tf\n",
    "from tensorflow import keras\n",
    "import cv2 as cv\n",
    "\n",
    "train=pd.read_csv('train.csv')\n",
    "os.chdir('Train Images')\n",
    "X=train['Image'].values\n",
    "Xtrain=[]\n",
    "\n",
    "for i in X:\n",
    "    im = cv.imread(i)\n",
    "    Xtrain.append(im)\n",
    "Xtrain=np.array(Xtrain)"
   ]
  },
  {
   "cell_type": "code",
   "execution_count": 2,
   "metadata": {},
   "outputs": [],
   "source": [
    "os.chdir('C:\\Windows\\System32\\ML_PATH')"
   ]
  },
  {
   "cell_type": "code",
   "execution_count": 3,
   "metadata": {},
   "outputs": [
    {
     "name": "stdout",
     "output_type": "stream",
     "text": [
      "298\n",
      "644\n",
      "2812\n",
      "4770\n"
     ]
    }
   ],
   "source": [
    "sift=cv.xfeatures2d.SIFT_create()\n",
    "a,des_cluster=sift.detectAndCompute(Xtrain[0],None)\n",
    "des_hist=[des_cluster]\n",
    "for i in range(1,Xtrain.shape[0]):\n",
    "    kp,des=sift.detectAndCompute(Xtrain[i],None)\n",
    "    if type(des) is np.ndarray:\n",
    "        des_cluster=np.vstack((des_cluster,des))\n",
    "        des_hist.append(des)\n",
    "    else:\n",
    "        print(i)\n",
    "des_hist=np.array(des_hist)"
   ]
  },
  {
   "cell_type": "code",
   "execution_count": 4,
   "metadata": {},
   "outputs": [
    {
     "data": {
      "text/plain": [
       "KMeans(algorithm='auto', copy_x=True, init='k-means++', max_iter=300,\n",
       "       n_clusters=1000, n_init=10, n_jobs=None, precompute_distances='auto',\n",
       "       random_state=None, tol=0.0001, verbose=0)"
      ]
     },
     "execution_count": 4,
     "metadata": {},
     "output_type": "execute_result"
    }
   ],
   "source": [
    "from sklearn.cluster import KMeans\n",
    "cluster=KMeans(1000)\n",
    "cluster.fit(des_cluster)"
   ]
  },
  {
   "cell_type": "code",
   "execution_count": 6,
   "metadata": {},
   "outputs": [],
   "source": [
    "bov=[]\n",
    "for i in range(des_hist.shape[0]):\n",
    "    hist=[0 for m in range(1000)]\n",
    "    for j in range(des_hist[i].shape[0]):\n",
    "        a=int(cluster.predict(des_hist[i][j].reshape(1,-1)))\n",
    "        hist[a]+=1\n",
    "    \n",
    "    bov.append(hist)\n",
    "bov=np.array(bov)  #bov is an array with shape (no. of images,no. of clusters)"
   ]
  }
 ],
 "metadata": {
  "kernelspec": {
   "display_name": "Python 3",
   "language": "python",
   "name": "python3"
  },
  "language_info": {
   "codemirror_mode": {
    "name": "ipython",
    "version": 3
   },
   "file_extension": ".py",
   "mimetype": "text/x-python",
   "name": "python",
   "nbconvert_exporter": "python",
   "pygments_lexer": "ipython3",
   "version": "3.7.4"
  }
 },
 "nbformat": 4,
 "nbformat_minor": 2
}
